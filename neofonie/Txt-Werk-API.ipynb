{
 "cells": [
  {
   "cell_type": "markdown",
   "metadata": {},
   "source": [
    "\n",
    "# Txt Werk - Neofonie Text Analysis Tool\n",
    "\n",
    "\n",
    "Txt Werk ist the Text Analysis Tool from Neofonie GmbH. It allows you to annotate your text in german and english language with information about recognized named entites.\n",
    "\n",
    "For more information, please visit the webpage http://www.txtwerk.de/ of Txt Werk.\n",
    "\n",
    "\n",
    "This Notebook demonstrates some simple usages of the Txt Werk API.\n",
    "\n",
    "No special prerequisites are necessary.\n",
    "\n",
    "NOTE: It is expected that a file txt_werk_apikey.py exists in the directory of the notebook with a valid Txt Werk Api-Key!\n"
   ]
  },
  {
   "cell_type": "markdown",
   "metadata": {},
   "source": [
    "\n",
    "\n",
    "## Requesting Txt Werk API with Http requests.\n",
    "\n"
   ]
  },
  {
   "cell_type": "markdown",
   "metadata": {},
   "source": [
    "\n",
    "### Calls to the Txt Werk API with a given text.\n"
   ]
  },
  {
   "cell_type": "markdown",
   "metadata": {},
   "source": [
    "\n",
    "#### 1. Requesting recognized entities.\n"
   ]
  },
  {
   "cell_type": "code",
   "execution_count": 1,
   "metadata": {
    "collapsed": false,
    "scrolled": true
   },
   "outputs": [
    {
     "name": "stdout",
     "output_type": "stream",
     "text": [
      "Txt Werk Request:\n",
      "\n",
      "\"Angela Merkel wurde am 17. Juli 1954 in Hamburg als Angela Dorothea Kasner geboren.\"\n",
      "\n",
      "\n",
      "Txt Werk Response:\n",
      "\n",
      "{\n",
      "    \"timestamp\": 1478783930870,\n",
      "    \"language\": \"de\",\n",
      "    \"text\": \"Angela Merkel wurde am 17. Juli 1954 in Hamburg als Angela Dorothea Kasner geboren.\",\n",
      "    \"entities\": [\n",
      "        {\n",
      "            \"label\": \"Angela Merkel\",\n",
      "            \"type\": \"PERSON\",\n",
      "            \"end\": 13,\n",
      "            \"uri\": \"https://www.wikidata.org/wiki/Q567\",\n",
      "            \"start\": 0,\n",
      "            \"confidence\": 47.60983657836914,\n",
      "            \"surface\": \"Angela Merkel\"\n",
      "        },\n",
      "        {\n",
      "            \"label\": \"17. Juli\",\n",
      "            \"type\": \"CONCEPT\",\n",
      "            \"end\": 31,\n",
      "            \"uri\": \"https://www.wikidata.org/wiki/Q2729\",\n",
      "            \"start\": 23,\n",
      "            \"confidence\": 39.16166687011719,\n",
      "            \"surface\": \"17. Juli\"\n",
      "        },\n",
      "        {\n",
      "            \"label\": \"Hamburg\",\n",
      "            \"type\": \"PLACE\",\n",
      "            \"end\": 47,\n",
      "            \"uri\": \"https://www.wikidata.org/wiki/Q1055\",\n",
      "            \"start\": 40,\n",
      "            \"confidence\": 39.6832389831543,\n",
      "            \"surface\": \"Hamburg\"\n",
      "        },\n",
      "        {\n",
      "            \"label\": null,\n",
      "            \"type\": \"PERSON\",\n",
      "            \"end\": 74,\n",
      "            \"uri\": null,\n",
      "            \"start\": 52,\n",
      "            \"confidence\": 75.0,\n",
      "            \"surface\": \"Angela Dorothea Kasner\"\n",
      "        }\n",
      "    ]\n",
      "}\n"
     ]
    }
   ],
   "source": [
    "import requests\n",
    "import json\n",
    "\n",
    "try :\n",
    "    from txt_werk_apikey import txt_werk\n",
    "except ImportError :\n",
    "    raise RuntimeError(\"Credentials must be supplied as dict in txt_werk_apikey.py. See example_txt_werk_apikey.py or use this as a template: txt_werk=dict(apikey='apikey')\")\n",
    "\n",
    "TXT_WERK_URL = \"https://api.neofonie.de/rest/txt/analyzer\"\n",
    "\n",
    "## Set Txt Werk Api-Key in headers\n",
    "headers={'X-Api-Key' : txt_werk['apikey']}\n",
    "\n",
    "## Let's go\n",
    "text = \"Angela Merkel wurde am 17. Juli 1954 in Hamburg als Angela Dorothea Kasner geboren.\"\n",
    "\n",
    "r = requests.post(TXT_WERK_URL, data={'text': text, 'services' : 'entities'}, headers=headers)\n",
    "txt_werk_response = r.json()\n",
    "      \n",
    "print(\"Txt Werk Request:\\n\\n\\\"\" + text + \"\\\"\\n\\n\")\n",
    "print(\"Txt Werk Response:\\n\\n\" + json.dumps(txt_werk_response, indent=4))\n"
   ]
  },
  {
   "cell_type": "markdown",
   "metadata": {},
   "source": [
    "\n",
    "#### 2. Requesting recognized tags.\n"
   ]
  },
  {
   "cell_type": "code",
   "execution_count": 2,
   "metadata": {
    "collapsed": false
   },
   "outputs": [
    {
     "name": "stdout",
     "output_type": "stream",
     "text": [
      "Txt Werk Request:\n",
      "\n",
      "\"Angela Merkel wurde am 17. Juli 1954 in Hamburg als Angela Dorothea Kasner geboren.\"\n",
      "\n",
      "\n",
      "Txt Werk Response:\n",
      "\n",
      "{\n",
      "    \"timestamp\": 1478783931027,\n",
      "    \"text\": \"Angela Merkel wurde am 17. Juli 1954 in Hamburg als Angela Dorothea Kasner geboren.\",\n",
      "    \"tags\": [\n",
      "        {\n",
      "            \"confidence\": 0.9988351678969338,\n",
      "            \"term\": \"17. Juli\"\n",
      "        },\n",
      "        {\n",
      "            \"confidence\": 0.998310833033523,\n",
      "            \"term\": \"Angela Dorothea Kasner\"\n",
      "        },\n",
      "        {\n",
      "            \"confidence\": 0.9971508741324149,\n",
      "            \"term\": \"Angela Merkel\"\n",
      "        },\n",
      "        {\n",
      "            \"confidence\": 0.9931194554831768,\n",
      "            \"term\": \"Hamburg\"\n",
      "        }\n",
      "    ],\n",
      "    \"language\": \"de\"\n",
      "}\n"
     ]
    }
   ],
   "source": [
    "r = requests.post(TXT_WERK_URL, data={'text': text, 'services' : 'tags'}, headers=headers)\n",
    "txt_werk_response = r.json()\n",
    "      \n",
    "print(\"Txt Werk Request:\\n\\n\\\"\" + text + \"\\\"\\n\\n\")\n",
    "print(\"Txt Werk Response:\\n\\n\" + json.dumps(txt_werk_response, indent=4))\n"
   ]
  },
  {
   "cell_type": "markdown",
   "metadata": {},
   "source": [
    "\n",
    "#### 3. Requesting recognized tags as before but also giving a title as input, which should enhance the results.\n"
   ]
  },
  {
   "cell_type": "code",
   "execution_count": 3,
   "metadata": {
    "collapsed": false
   },
   "outputs": [
    {
     "name": "stdout",
     "output_type": "stream",
     "text": [
      "Txt Werk Request:\n",
      "\n",
      "\"Angela Merkel wurde am 17. Juli 1954 in Hamburg als Angela Dorothea Kasner geboren.\"\n",
      "\n",
      "\n",
      "Txt Werk Response:\n",
      "\n",
      "{\n",
      "    \"timestamp\": 1478783931188,\n",
      "    \"text\": \"Ein Lebenslauf von Frau Merkel\\n\\nAngela Merkel wurde am 17. Juli 1954 in Hamburg als Angela Dorothea Kasner geboren.\",\n",
      "    \"tags\": [\n",
      "        {\n",
      "            \"confidence\": 0.999646474945941,\n",
      "            \"term\": \"17. Juli\"\n",
      "        },\n",
      "        {\n",
      "            \"confidence\": 0.9995733902090875,\n",
      "            \"term\": \"Angela Dorothea Kasner\"\n",
      "        },\n",
      "        {\n",
      "            \"confidence\": 0.99944244934105,\n",
      "            \"term\": \"Lebenslauf\"\n",
      "        },\n",
      "        {\n",
      "            \"confidence\": 0.9978629324922726,\n",
      "            \"term\": \"Hamburg\"\n",
      "        }\n",
      "    ],\n",
      "    \"language\": \"de\"\n",
      "}\n"
     ]
    }
   ],
   "source": [
    "title = \"Ein Lebenslauf von Frau Merkel\"\n",
    "\n",
    "r = requests.post(TXT_WERK_URL, data={'title': title, 'text': text, 'services' : 'tags'}, headers=headers)\n",
    "txt_werk_response = r.json()\n",
    "      \n",
    "print(\"Txt Werk Request:\\n\\n\\\"\" + text + \"\\\"\\n\\n\")\n",
    "print(\"Txt Werk Response:\\n\\n\" + json.dumps(txt_werk_response, indent=4))\n"
   ]
  },
  {
   "cell_type": "markdown",
   "metadata": {},
   "source": [
    "\n",
    "#### 4. Requesting recognized categories with their confidence values.\n"
   ]
  },
  {
   "cell_type": "code",
   "execution_count": 4,
   "metadata": {
    "collapsed": false
   },
   "outputs": [
    {
     "name": "stdout",
     "output_type": "stream",
     "text": [
      "Txt Werk Request:\n",
      "\n",
      "\"Angela Merkel wurde am 17. Juli 1954 in Hamburg als Angela Dorothea Kasner geboren.\"\n",
      "\n",
      "\n",
      "Txt Werk Response:\n",
      "\n",
      "{\n",
      "    \"language\": \"de\",\n",
      "    \"timestamp\": 1478783931336,\n",
      "    \"text\": \"Angela Merkel wurde am 17. Juli 1954 in Hamburg als Angela Dorothea Kasner geboren.\",\n",
      "    \"categories\": [\n",
      "        {\n",
      "            \"label\": \"politik\",\n",
      "            \"confidence\": 0.9840945695370302\n",
      "        },\n",
      "        {\n",
      "            \"label\": \"wirtschaft\",\n",
      "            \"confidence\": 0.010815793425103136\n",
      "        },\n",
      "        {\n",
      "            \"label\": \"kultur\",\n",
      "            \"confidence\": 0.005075348628913111\n",
      "        },\n",
      "        {\n",
      "            \"label\": \"sport\",\n",
      "            \"confidence\": 1.0970299976779499e-05\n",
      "        },\n",
      "        {\n",
      "            \"label\": \"reisen\",\n",
      "            \"confidence\": 1.8793566199359706e-06\n",
      "        },\n",
      "        {\n",
      "            \"label\": \"wissenschaft\",\n",
      "            \"confidence\": 8.05313821392574e-07\n",
      "        },\n",
      "        {\n",
      "            \"label\": \"internet\",\n",
      "            \"confidence\": 6.269585510453141e-07\n",
      "        },\n",
      "        {\n",
      "            \"label\": \"auto+technik\",\n",
      "            \"confidence\": 6.479984358403916e-09\n",
      "        }\n",
      "    ]\n",
      "}\n"
     ]
    }
   ],
   "source": [
    "r = requests.post(TXT_WERK_URL, data={'text': text, 'services' : 'categories'}, headers=headers)\n",
    "txt_werk_response = r.json()\n",
    "      \n",
    "print(\"Txt Werk Request:\\n\\n\\\"\" + text + \"\\\"\\n\\n\")\n",
    "print(\"Txt Werk Response:\\n\\n\" + json.dumps(txt_werk_response, indent=4))\n"
   ]
  },
  {
   "cell_type": "markdown",
   "metadata": {},
   "source": [
    "\n",
    "#### 4. Requesting recognized dates.\n"
   ]
  },
  {
   "cell_type": "code",
   "execution_count": 5,
   "metadata": {
    "collapsed": false
   },
   "outputs": [
    {
     "name": "stdout",
     "output_type": "stream",
     "text": [
      "Txt Werk Request:\n",
      "\n",
      "\"Angela Merkel wurde am 17. Juli 1954 in Hamburg als Angela Dorothea Kasner geboren.\"\n",
      "\n",
      "\n",
      "Txt Werk Response:\n",
      "\n",
      "{\n",
      "    \"timestamp\": 1478783931491,\n",
      "    \"text\": \"Angela Merkel wurde am 17. Juli 1954 in Hamburg als Angela Dorothea Kasner geboren.\",\n",
      "    \"dates\": [\n",
      "        {\n",
      "            \"dateEnd\": {\n",
      "                \"month\": 7,\n",
      "                \"bc\": false,\n",
      "                \"year\": 1954,\n",
      "                \"day\": 17\n",
      "            },\n",
      "            \"dateStart\": {\n",
      "                \"month\": 7,\n",
      "                \"bc\": false,\n",
      "                \"year\": 1954,\n",
      "                \"day\": 17\n",
      "            },\n",
      "            \"start\": 23,\n",
      "            \"surface\": \"17. Juli 1954\",\n",
      "            \"end\": 36\n",
      "        }\n",
      "    ],\n",
      "    \"language\": \"de\"\n",
      "}\n"
     ]
    }
   ],
   "source": [
    "r = requests.post(TXT_WERK_URL, data={'text': text, 'services' : 'dates'}, headers=headers)\n",
    "txt_werk_response = r.json()\n",
    "      \n",
    "print(\"Txt Werk Request:\\n\\n\\\"\" + text + \"\\\"\\n\\n\")\n",
    "print(\"Txt Werk Response:\\n\\n\" + json.dumps(txt_werk_response, indent=4))\n"
   ]
  },
  {
   "cell_type": "markdown",
   "metadata": {},
   "source": [
    "\n",
    "### Using the simple TxtWerkClient for calls to the Txt Werk API with a given text.\n"
   ]
  },
  {
   "cell_type": "markdown",
   "metadata": {},
   "source": [
    "\n",
    "#### 1. Using the simple TxtWerkClient for access to the Txt Werk API.\n"
   ]
  },
  {
   "cell_type": "code",
   "execution_count": 6,
   "metadata": {
    "collapsed": false,
    "scrolled": true
   },
   "outputs": [
    {
     "name": "stdout",
     "output_type": "stream",
     "text": [
      "\n",
      "Response from Txt Werk:\n",
      "\n",
      "{\n",
      "    \"entities\": [\n",
      "        {\n",
      "            \"label\": \"Angela Merkel\",\n",
      "            \"type\": \"PERSON\",\n",
      "            \"surface\": \"Angela Merkel\",\n",
      "            \"uri\": \"https://www.wikidata.org/wiki/Q567\",\n",
      "            \"start\": 0,\n",
      "            \"confidence\": 47.60983657836914,\n",
      "            \"end\": 13\n",
      "        },\n",
      "        {\n",
      "            \"label\": \"17. Juli\",\n",
      "            \"type\": \"CONCEPT\",\n",
      "            \"surface\": \"17. Juli\",\n",
      "            \"uri\": \"https://www.wikidata.org/wiki/Q2729\",\n",
      "            \"start\": 23,\n",
      "            \"confidence\": 39.16166687011719,\n",
      "            \"end\": 31\n",
      "        },\n",
      "        {\n",
      "            \"label\": \"Hamburg\",\n",
      "            \"type\": \"PLACE\",\n",
      "            \"surface\": \"Hamburg\",\n",
      "            \"uri\": \"https://www.wikidata.org/wiki/Q1055\",\n",
      "            \"start\": 40,\n",
      "            \"confidence\": 39.6832389831543,\n",
      "            \"end\": 47\n",
      "        },\n",
      "        {\n",
      "            \"label\": null,\n",
      "            \"type\": \"PERSON\",\n",
      "            \"surface\": \"Angela Dorothea Kasner\",\n",
      "            \"uri\": null,\n",
      "            \"start\": 52,\n",
      "            \"confidence\": 75.0,\n",
      "            \"end\": 74\n",
      "        }\n",
      "    ],\n",
      "    \"timestamp\": 1478783931647,\n",
      "    \"text\": \"Angela Merkel wurde am 17. Juli 1954 in Hamburg als Angela Dorothea Kasner geboren.\",\n",
      "    \"language\": \"de\"\n",
      "}\n",
      "\n"
     ]
    }
   ],
   "source": [
    "from txtwerk_client import TxtWerkClient\n",
    "from IPython.core.display import display, HTML\n",
    "\n",
    "txt_werk_client = TxtWerkClient()\n",
    "\n",
    "## Let's go\n",
    "txt_werk_response = txt_werk_client.check_text(text)\n",
    "\n",
    "print(\"\\nResponse from Txt Werk:\\n\\n\" + json.dumps(txt_werk_response, indent=4) + \"\\n\")\n"
   ]
  },
  {
   "cell_type": "markdown",
   "metadata": {},
   "source": [
    "\n",
    "#### 2. Formatting output in HTML on the previous result.\n"
   ]
  },
  {
   "cell_type": "code",
   "execution_count": 7,
   "metadata": {
    "collapsed": false
   },
   "outputs": [
    {
     "name": "stdout",
     "output_type": "stream",
     "text": [
      "\n",
      "Entities from Txt Werk:\n",
      "\n",
      "[ PERSON, \"Angela Merkel\", \"Angela Merkel\", https://www.wikidata.org/wiki/Q567, [0,13], 47.60983657836914 ]\n",
      "[ CONCEPT, \"17. Juli\", \"17. Juli\", https://www.wikidata.org/wiki/Q2729, [23,31], 39.16166687011719 ]\n",
      "[ PLACE, \"Hamburg\", \"Hamburg\", https://www.wikidata.org/wiki/Q1055, [40,47], 39.6832389831543 ]\n",
      "[ PERSON, \"None\", \"Angela Dorothea Kasner\", None, [52,74], 75.0 ]\n",
      "\n"
     ]
    },
    {
     "data": {
      "text/html": [
       "<a href=\"https://www.wikidata.org/wiki/Q567\" target=\"_blank\" style=\"color:#FF0000;\"><strong>Angela Merkel</strong></a> wurde am <a href=\"https://www.wikidata.org/wiki/Q2729\" target=\"_blank\" style=\"color:#FF00E9;\"><strong>17. Juli</strong></a> 1954 in <a href=\"https://www.wikidata.org/wiki/Q1055\" target=\"_blank\" style=\"color:#00FF00;\"><strong>Hamburg</strong></a> als <a href=\"#\" target=\"_blank\" style=\"color:#FF9933;\"><strong>Angela Dorothea Kasner</strong></a> geboren."
      ],
      "text/plain": [
       "<IPython.core.display.HTML object>"
      ]
     },
     "metadata": {},
     "output_type": "display_data"
    },
    {
     "name": "stdout",
     "output_type": "stream",
     "text": [
      "\n",
      "\n"
     ]
    }
   ],
   "source": [
    "\n",
    "## Once again the recognized entities, but formatted\n",
    "print(\"\\nEntities from Txt Werk:\\n\\n\" + txt_werk_client.format_entities(txt_werk_response['entities']))\n",
    "\n",
    "## Now let's get teh text html annotated for display in webpage\n",
    "\n",
    "display(HTML(txt_werk_client.check_text_html_annotated(text)))\n",
    "print(\"\\n\")\n"
   ]
  }
 ],
 "metadata": {
  "anaconda-cloud": {},
  "kernelspec": {
   "display_name": "Python [Root]",
   "language": "python",
   "name": "Python [Root]"
  },
  "language_info": {
   "codemirror_mode": {
    "name": "ipython",
    "version": 3
   },
   "file_extension": ".py",
   "mimetype": "text/x-python",
   "name": "python",
   "nbconvert_exporter": "python",
   "pygments_lexer": "ipython3",
   "version": "3.5.2"
  }
 },
 "nbformat": 4,
 "nbformat_minor": 0
}
